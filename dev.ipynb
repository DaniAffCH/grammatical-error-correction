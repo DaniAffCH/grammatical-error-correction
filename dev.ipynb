{
 "cells": [
  {
   "cell_type": "code",
   "execution_count": 31,
   "metadata": {},
   "outputs": [],
   "source": [
    "from jflegDataset import JflegDataset\n",
    "import pandas as pd\n",
    "from torch.utils.data import DataLoader\n",
    "from transformers import BertTokenizer"
   ]
  },
  {
   "cell_type": "code",
   "execution_count": 32,
   "metadata": {},
   "outputs": [],
   "source": [
    "tokenizer = BertTokenizer.from_pretrained('bert-base-cased')\n",
    "TRAIN_PATH = \"src/dataset/train.csv\"\n",
    "VAL_PATH = \"src/dataset/eval.csv\"\n",
    "ds = JflegDataset(TRAIN_PATH, tokenizer)\n",
    "dl = DataLoader(ds)\n"
   ]
  },
  {
   "cell_type": "code",
   "execution_count": 33,
   "metadata": {},
   "outputs": [
    {
     "data": {
      "text/plain": [
       "{'input_ids': tensor([[  101, 12616,   131,   138,  9131,  1107,  1251,  1768,  1209,  1138,\n",
       "          1618,  2261,  6305,   117,  1104, 16461,  1119,  1209,  1136,  1138,\n",
       "          1112,  1242,  6305,  1133,  3451,  1122,  1129,   117,  1209,  1129,\n",
       "          1677,  1618,   119,   102]]), 'token_type_ids': tensor([[0, 0, 0, 0, 0, 0, 0, 0, 0, 0, 0, 0, 0, 0, 0, 0, 0, 0, 0, 0, 0, 0, 0, 0,\n",
       "         0, 0, 0, 0, 0, 0, 0, 0, 0, 0]]), 'attention_mask': tensor([[1, 1, 1, 1, 1, 1, 1, 1, 1, 1, 1, 1, 1, 1, 1, 1, 1, 1, 1, 1, 1, 1, 1, 1,\n",
       "         1, 1, 1, 1, 1, 1, 1, 1, 1, 1]])}"
      ]
     },
     "execution_count": 33,
     "metadata": {},
     "output_type": "execute_result"
    }
   ],
   "source": [
    "import torch\n",
    "import numpy as np\n",
    "\n",
    "tokenizer = BertTokenizer.from_pretrained('bert-base-cased')\n",
    "csv = pd.read_csv(TRAIN_PATH)\n",
    "csv = csv.groupby('input')['target'].agg(np.array).reset_index()\n",
    "encoded = tokenizer(csv.iloc[4][\"input\"], return_tensors=\"pt\")\n",
    "#tokenizer.decode(encoded[\"input_ids\"])\n",
    "encoded"
   ]
  },
  {
   "cell_type": "code",
   "execution_count": 34,
   "metadata": {},
   "outputs": [
    {
     "data": {
      "text/plain": [
       "[{'input_ids': tensor([[  101,   122,   128,   118,   126,   121,  1234,  1127, 13186,  1164,\n",
       "           1217,  2320,  1106,  1321,  1155,  3553,  1105,  1515, 14930,  3553,\n",
       "            119,   102]]), 'token_type_ids': tensor([[[0, 0, 0, 0, 0, 0, 0, 0, 0, 0, 0, 0, 0, 0, 0, 0, 0, 0, 0, 0, 0, 0]]]), 'attention_mask': tensor([[[1, 1, 1, 1, 1, 1, 1, 1, 1, 1, 1, 1, 1, 1, 1, 1, 1, 1, 1, 1, 1, 1]]])},\n",
       " {'input_ids': tensor([[  101,   122,   128,   118,   126,   121,  1234,  5980,  1106,  4752,\n",
       "           1155,  1705,  1105, 14930,  1705,   119,   102]]), 'token_type_ids': tensor([[[0, 0, 0, 0, 0, 0, 0, 0, 0, 0, 0, 0, 0, 0, 0, 0, 0]]]), 'attention_mask': tensor([[[1, 1, 1, 1, 1, 1, 1, 1, 1, 1, 1, 1, 1, 1, 1, 1, 1]]])},\n",
       " {'input_ids': tensor([[  101,   122,   128,   118,   126,   121,  1234,  5980,  1106,  1231,\n",
       "           4426,  3313,  1155,  1705,  1105, 14930,  1705,   119,   102]]), 'token_type_ids': tensor([[[0, 0, 0, 0, 0, 0, 0, 0, 0, 0, 0, 0, 0, 0, 0, 0, 0, 0, 0]]]), 'attention_mask': tensor([[[1, 1, 1, 1, 1, 1, 1, 1, 1, 1, 1, 1, 1, 1, 1, 1, 1, 1, 1]]])},\n",
       " {'input_ids': tensor([[  101,   122,   128,   118,   126,   121,  1234, 13186,  1106,  1231,\n",
       "           4426,  3313,  1155,  1705,  1105, 14930,  1705,   119,   102]]), 'token_type_ids': tensor([[[0, 0, 0, 0, 0, 0, 0, 0, 0, 0, 0, 0, 0, 0, 0, 0, 0, 0, 0]]]), 'attention_mask': tensor([[[1, 1, 1, 1, 1, 1, 1, 1, 1, 1, 1, 1, 1, 1, 1, 1, 1, 1, 1]]])}]"
      ]
     },
     "execution_count": 34,
     "metadata": {},
     "output_type": "execute_result"
    }
   ],
   "source": [
    "i = iter(dl)\n",
    "next(i)\n",
    "input, targ = next(i)\n",
    "#ds.decode(input[\"input_ids\"][0])\n",
    "targ"
   ]
  },
  {
   "cell_type": "code",
   "execution_count": 35,
   "metadata": {},
   "outputs": [
    {
     "data": {
      "text/plain": [
       "BertTokenizer(name_or_path='bert-base-cased', vocab_size=28996, model_max_length=512, is_fast=False, padding_side='right', truncation_side='right', special_tokens={'unk_token': '[UNK]', 'sep_token': '[SEP]', 'pad_token': '[PAD]', 'cls_token': '[CLS]', 'mask_token': '[MASK]'}, clean_up_tokenization_spaces=True),  added_tokens_decoder={\n",
       "\t0: AddedToken(\"[PAD]\", rstrip=False, lstrip=False, single_word=False, normalized=False, special=True),\n",
       "\t100: AddedToken(\"[UNK]\", rstrip=False, lstrip=False, single_word=False, normalized=False, special=True),\n",
       "\t101: AddedToken(\"[CLS]\", rstrip=False, lstrip=False, single_word=False, normalized=False, special=True),\n",
       "\t102: AddedToken(\"[SEP]\", rstrip=False, lstrip=False, single_word=False, normalized=False, special=True),\n",
       "\t103: AddedToken(\"[MASK]\", rstrip=False, lstrip=False, single_word=False, normalized=False, special=True),\n",
       "}"
      ]
     },
     "execution_count": 35,
     "metadata": {},
     "output_type": "execute_result"
    }
   ],
   "source": [
    "tokenizer = BertTokenizer.from_pretrained('bert-base-cased')\n",
    "\n",
    "ds_train = JflegDataset(TRAIN_PATH, tokenizer)\n",
    "ds_eval = JflegDataset(VAL_PATH, tokenizer)\n",
    "\n",
    "dl_train = DataLoader(ds_train)\n",
    "dl_eval = DataLoader(ds_eval)\n",
    "\n",
    "tokenizer"
   ]
  },
  {
   "cell_type": "code",
   "execution_count": 36,
   "metadata": {},
   "outputs": [],
   "source": [
    "from torch import nn, Tensor\n",
    "import math\n",
    "\n",
    "# https://pytorch.org/tutorials/beginner/transformer_tutorial.html\n",
    "class PositionalEncoding(nn.Module):\n",
    "\n",
    "    def __init__(self, d_model: int, dropout: float = 0.1, max_len: int = 5000):\n",
    "        super().__init__()\n",
    "        self.dropout = nn.Dropout(p=dropout)\n",
    "\n",
    "        position = torch.arange(max_len).unsqueeze(1)\n",
    "        div_term = torch.exp(torch.arange(0, d_model, 2) * (-math.log(10000.0) / d_model))\n",
    "        pe = torch.zeros(max_len, 1, d_model)\n",
    "        pe[:, 0, 0::2] = torch.sin(position * div_term)\n",
    "        pe[:, 0, 1::2] = torch.cos(position * div_term)\n",
    "        self.register_buffer('pe', pe)\n",
    "\n",
    "    def forward(self, x: Tensor) -> Tensor:\n",
    "        \"\"\"\n",
    "        Arguments:\n",
    "            x: Tensor, shape ``[seq_len, batch_size, embedding_dim]``\n",
    "        \"\"\"\n",
    "        x = x + self.pe[:x.size(0)]\n",
    "        return self.dropout(x)\n",
    "\n",
    "class TokenEmbedding(nn.Module):\n",
    "    #  https://pytorch.org/tutorials/beginner/translation_transformer.html\n",
    "    def __init__(self, vocab_size: int, emb_size):\n",
    "        super(TokenEmbedding, self).__init__()\n",
    "        self.embedding = nn.Embedding(vocab_size, emb_size)\n",
    "        self.emb_size = emb_size\n",
    "\n",
    "    def forward(self, tokens: torch.Tensor):\n",
    "        return self.embedding(tokens.long()) * math.sqrt(self.emb_size)"
   ]
  },
  {
   "cell_type": "code",
   "execution_count": 37,
   "metadata": {},
   "outputs": [],
   "source": [
    "import torch\n",
    "from torch import nn, Tensor\n",
    "\n",
    "class TransformerModel(nn.Module):\n",
    "\n",
    "    def __init__(self, ntoken: int, d_model: int):\n",
    "        super().__init__()\n",
    "        self.model_type = 'Transformer'\n",
    "        self.pos_encoder = PositionalEncoding(d_model, 0.1)\n",
    "        self.embedding = TokenEmbedding(ntoken, d_model)\n",
    "\n",
    "        self.transformer = nn.Transformer(\n",
    "            d_model=d_model,\n",
    "            nhead=4,\n",
    "            num_encoder_layers=6,\n",
    "            num_decoder_layers=6,\n",
    "            dim_feedforward=1024,\n",
    "            dropout=0.1,\n",
    "        )\n",
    "\n",
    "        self.head = nn.Linear(d_model, ntoken)\n",
    "        self.sm = nn.Softmax(dim=0)\n",
    "\n",
    "    def forward(self, input: Tensor, target: Tensor, src_mask: Tensor = None) -> Tensor:\n",
    "\n",
    "        src = self.embedding(input) \n",
    "        src = self.pos_encoder(src)\n",
    "\n",
    "        target = self.embedding(target)\n",
    "        target = self.pos_encoder(target)\n",
    "\n",
    "        encoded = self.transformer.encoder(src)\n",
    "\n",
    "        decoded = self.transformer.decoder(target, memory=encoded)\n",
    "\n",
    "        out = self.head(decoded)\n",
    "\n",
    "        return self.sm(out)[:,-1,:] # Consider only the last prediction"
   ]
  },
  {
   "cell_type": "code",
   "execution_count": 38,
   "metadata": {},
   "outputs": [
    {
     "name": "stdout",
     "output_type": "stream",
     "text": [
      "src.shape=torch.Size([1, 6])\n",
      "target.shape=torch.Size([1, 6])\n",
      "torch.Size([1, 28996])\n"
     ]
    }
   ],
   "source": [
    "model = TransformerModel(tokenizer.vocab_size, 768)\n",
    "\n",
    "for x,y in dl_train:\n",
    "    src = x[\"input_ids\"]\n",
    "    target = y[0][\"input_ids\"]\n",
    "    tmp = torch.tensor([[100.]]) # Stupid way of simulating padding. TODO: do it in the right way\n",
    "    target = torch.cat((target,tmp), dim=1)\n",
    "    print(f\"{src.shape=}\")\n",
    "    print(f\"{target.shape=}\")\n",
    "    out = model(src,target)\n",
    "    print(out.shape)\n",
    "    break\n",
    "    #print()"
   ]
  },
  {
   "cell_type": "code",
   "execution_count": 39,
   "metadata": {},
   "outputs": [
    {
     "name": "stdout",
     "output_type": "stream",
     "text": [
      "torch.Size([20, 16])\n",
      "torch.Size([20, 16])\n",
      "torch.Size([20, 100])\n",
      "tensor([[0.0451, 0.0556, 0.0558,  ..., 0.0482, 0.0348, 0.0387],\n",
      "        [0.0427, 0.0413, 0.0590,  ..., 0.0397, 0.0570, 0.0305],\n",
      "        [0.0482, 0.0344, 0.0480,  ..., 0.0398, 0.0378, 0.0503],\n",
      "        ...,\n",
      "        [0.0509, 0.0518, 0.0477,  ..., 0.0434, 0.0547, 0.0864],\n",
      "        [0.0552, 0.0601, 0.0335,  ..., 0.0601, 0.0336, 0.0401],\n",
      "        [0.0303, 0.0615, 0.0523,  ..., 0.0573, 0.0531, 0.0465]],\n",
      "       grad_fn=<SliceBackward0>)\n"
     ]
    }
   ],
   "source": [
    "\n",
    "if __name__ == \"__main__\":\n",
    "    n_classes = 100\n",
    "\n",
    "    source = torch.randint(low=0, high=n_classes, size=(20, 16))\n",
    "    target = torch.randint(low=0, high=n_classes, size=(20, 16))\n",
    "\n",
    "    print(source.shape)\n",
    "    print(target.shape)\n",
    "\n",
    "    s2s = TransformerModel(n_classes,700)\n",
    "\n",
    "    out = s2s(source, target)\n",
    "    print(out.size())\n",
    "    print(out)"
   ]
  }
 ],
 "metadata": {
  "kernelspec": {
   "display_name": "Python 3",
   "language": "python",
   "name": "python3"
  },
  "language_info": {
   "codemirror_mode": {
    "name": "ipython",
    "version": 3
   },
   "file_extension": ".py",
   "mimetype": "text/x-python",
   "name": "python",
   "nbconvert_exporter": "python",
   "pygments_lexer": "ipython3",
   "version": "3.10.12"
  }
 },
 "nbformat": 4,
 "nbformat_minor": 2
}
