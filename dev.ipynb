{
 "cells": [
  {
   "cell_type": "code",
   "execution_count": 23,
   "metadata": {},
   "outputs": [],
   "source": [
    "from jflegDataset import JflegDataset\n",
    "import pandas as pd\n",
    "from torch.utils.data import DataLoader\n",
    "from transformers import BertTokenizer, GPT2Tokenizer\n",
    "import torch\n",
    "from torch import nn"
   ]
  },
  {
   "cell_type": "code",
   "execution_count": 24,
   "metadata": {},
   "outputs": [],
   "source": [
    "tokenizer = GPT2Tokenizer.from_pretrained('gpt2')\n",
    "TRAIN_PATH = \"src/dataset/train.csv\"\n",
    "VAL_PATH = \"src/dataset/eval.csv\"\n",
    "\n"
   ]
  },
  {
   "cell_type": "code",
   "execution_count": 25,
   "metadata": {},
   "outputs": [
    {
     "data": {
      "text/plain": [
       "{'input_ids': tensor([[50256,  1026,   481],\n",
       "        [   40,   765,   284],\n",
       "        [50256, 50256,  3666]]), 'attention_mask': tensor([[0, 1, 1],\n",
       "        [1, 1, 1],\n",
       "        [0, 0, 1]])}"
      ]
     },
     "execution_count": 25,
     "metadata": {},
     "output_type": "execute_result"
    }
   ],
   "source": [
    "tokenizer.padding_side = \"left\"\n",
    "tokenizer.pad_token = tokenizer.eos_token\n",
    "\n",
    "sentences = [\"It will rain in the\",\n",
    "            \"I want to eat a big bowl of\",\n",
    "            \"My dog is\"]\n",
    "a = tokenizer(sentences, return_tensors=\"pt\", padding=True)\n",
    "\n",
    "target = [\"It will\",\n",
    "            \"I want to\",\n",
    "            \"My\"]\n",
    "\n",
    "b = tokenizer(target, return_tensors=\"pt\", padding=True)\n",
    "\n",
    "b"
   ]
  },
  {
   "cell_type": "code",
   "execution_count": 26,
   "metadata": {},
   "outputs": [
    {
     "data": {
      "text/plain": [
       "GPT2Tokenizer(name_or_path='gpt2', vocab_size=50257, model_max_length=1024, is_fast=False, padding_side='left', truncation_side='right', special_tokens={'bos_token': '<|endoftext|>', 'eos_token': '<|endoftext|>', 'unk_token': '<|endoftext|>', 'pad_token': '<|endoftext|>'}, clean_up_tokenization_spaces=True),  added_tokens_decoder={\n",
       "\t50256: AddedToken(\"<|endoftext|>\", rstrip=False, lstrip=False, single_word=False, normalized=True, special=True),\n",
       "}"
      ]
     },
     "execution_count": 26,
     "metadata": {},
     "output_type": "execute_result"
    }
   ],
   "source": [
    "ds_train = JflegDataset(TRAIN_PATH, tokenizer)\n",
    "ds_eval = JflegDataset(VAL_PATH, tokenizer)\n",
    "\n",
    "dl_train = DataLoader(ds_train)\n",
    "dl_eval = DataLoader(ds_eval)\n",
    "\n",
    "tokenizer"
   ]
  },
  {
   "cell_type": "code",
   "execution_count": 27,
   "metadata": {},
   "outputs": [],
   "source": [
    "from torch import nn, Tensor\n",
    "import math\n",
    "\n",
    "# https://pytorch.org/tutorials/beginner/transformer_tutorial.html\n",
    "class PositionalEncoding(nn.Module):\n",
    "\n",
    "    def __init__(self, d_model: int, dropout: float = 0.1, max_len: int = 5000):\n",
    "        super().__init__()\n",
    "        self.dropout = nn.Dropout(p=dropout)\n",
    "\n",
    "        position = torch.arange(max_len).unsqueeze(1)\n",
    "        div_term = torch.exp(torch.arange(0, d_model, 2) * (-math.log(10000.0) / d_model))\n",
    "        pe = torch.zeros(max_len, 1, d_model)\n",
    "        pe[:, 0, 0::2] = torch.sin(position * div_term)\n",
    "        pe[:, 0, 1::2] = torch.cos(position * div_term)\n",
    "        self.register_buffer('pe', pe)\n",
    "\n",
    "    def forward(self, x: Tensor) -> Tensor:\n",
    "        \"\"\"\n",
    "        Arguments:\n",
    "            x: Tensor, shape ``[seq_len, batch_size, embedding_dim]``\n",
    "        \"\"\"\n",
    "        x = x + self.pe[:x.size(0)]\n",
    "        return self.dropout(x)\n",
    "\n",
    "class TokenEmbedding(nn.Module):\n",
    "    #  https://pytorch.org/tutorials/beginner/translation_transformer.html\n",
    "    def __init__(self, vocab_size: int, emb_size):\n",
    "        super(TokenEmbedding, self).__init__()\n",
    "        self.embedding = nn.Embedding(vocab_size, emb_size)\n",
    "        self.emb_size = emb_size\n",
    "\n",
    "    def forward(self, tokens: torch.Tensor):\n",
    "        return self.embedding(tokens.long()) * math.sqrt(self.emb_size)"
   ]
  },
  {
   "cell_type": "code",
   "execution_count": 28,
   "metadata": {},
   "outputs": [],
   "source": [
    "import torch\n",
    "from torch import nn, Tensor\n",
    "\n",
    "class TransformerModel(nn.Module):\n",
    "\n",
    "    def __init__(self, ntoken: int, d_model: int, padding_token_id:int):\n",
    "        super().__init__()\n",
    "        self.model_type = 'Transformer'\n",
    "        self.pos_encoder = PositionalEncoding(d_model, 0.1)\n",
    "        self.embedding = TokenEmbedding(ntoken, d_model)\n",
    "\n",
    "        self.transformer = nn.Transformer(\n",
    "            d_model=d_model,\n",
    "            nhead=4,\n",
    "            num_encoder_layers=6,\n",
    "            num_decoder_layers=6,\n",
    "            dim_feedforward=1024,\n",
    "            dropout=0.1,\n",
    "            batch_first=True\n",
    "        )\n",
    "\n",
    "        self.padding_token_id = padding_token_id\n",
    "\n",
    "        self.head = nn.Linear(d_model, ntoken)\n",
    "        self.sm = nn.Softmax(dim=0)\n",
    "\n",
    "    def generatePaddingMask(self, sentences):\n",
    "        return sentences == self.padding_token_id\n",
    "\n",
    "    def forward(self, input: Tensor, target: Tensor) -> Tensor:\n",
    "        srcPaddingMask = self.generatePaddingMask(input)\n",
    "        tgtPaddingMask = self.generatePaddingMask(target)\n",
    "\n",
    "        src = self.embedding(input) \n",
    "        src = self.pos_encoder(src)\n",
    "\n",
    "        target = self.embedding(target)\n",
    "        target = self.pos_encoder(target)\n",
    "\n",
    "        encoded = self.transformer.encoder(src, src_key_padding_mask=srcPaddingMask)\n",
    "        decoded = self.transformer.decoder(target, memory=encoded, tgt_key_padding_mask=tgtPaddingMask)\n",
    "\n",
    "        out = self.head(decoded)\n",
    "\n",
    "        return self.sm(out)"
   ]
  },
  {
   "cell_type": "code",
   "execution_count": 29,
   "metadata": {},
   "outputs": [
    {
     "name": "stdout",
     "output_type": "stream",
     "text": [
      "src.shape=torch.Size([1, 4])\n",
      "target.shape=torch.Size([1, 3])\n",
      "torch.Size([1, 3, 50257])\n"
     ]
    }
   ],
   "source": [
    "model = TransformerModel(tokenizer.vocab_size, 768, tokenizer.eos_token_id)\n",
    "\n",
    "for x,y in dl_train:\n",
    "    src = x[\"input_ids\"]\n",
    "    target = y[0][\"input_ids\"]\n",
    "\n",
    "    print(f\"{src.shape=}\")\n",
    "    print(f\"{target.shape=}\")\n",
    "    out = model(src,target)\n",
    "    print(out.shape)\n",
    "    break\n"
   ]
  },
  {
   "cell_type": "code",
   "execution_count": 30,
   "metadata": {},
   "outputs": [
    {
     "name": "stdout",
     "output_type": "stream",
     "text": [
      "torch.Size([20, 32, 100])\n",
      "tensor([[[0.0435, 0.0435, 0.0840,  ..., 0.0687, 0.0375, 0.0518],\n",
      "         [0.0298, 0.0355, 0.0812,  ..., 0.0606, 0.0502, 0.0365],\n",
      "         [0.0465, 0.0581, 0.0492,  ..., 0.0337, 0.0534, 0.0243],\n",
      "         ...,\n",
      "         [0.0388, 0.0604, 0.0804,  ..., 0.0616, 0.0770, 0.0341],\n",
      "         [0.1181, 0.0326, 0.0505,  ..., 0.0560, 0.0529, 0.0653],\n",
      "         [0.0535, 0.0569, 0.0713,  ..., 0.0627, 0.0299, 0.0522]],\n",
      "\n",
      "        [[0.0611, 0.0680, 0.0745,  ..., 0.0450, 0.0445, 0.0654],\n",
      "         [0.0570, 0.0394, 0.0573,  ..., 0.0584, 0.0492, 0.0561],\n",
      "         [0.0540, 0.0607, 0.0766,  ..., 0.0359, 0.0323, 0.0622],\n",
      "         ...,\n",
      "         [0.0349, 0.0341, 0.0396,  ..., 0.0513, 0.0434, 0.0425],\n",
      "         [0.0427, 0.0483, 0.0679,  ..., 0.0405, 0.0501, 0.0493],\n",
      "         [0.0364, 0.0534, 0.0461,  ..., 0.0451, 0.0406, 0.0452]],\n",
      "\n",
      "        [[0.0432, 0.0746, 0.0199,  ..., 0.0349, 0.0615, 0.0310],\n",
      "         [0.0434, 0.0904, 0.0431,  ..., 0.0352, 0.0494, 0.0515],\n",
      "         [0.0463, 0.0851, 0.0311,  ..., 0.0483, 0.0425, 0.0388],\n",
      "         ...,\n",
      "         [0.0450, 0.0663, 0.0441,  ..., 0.0351, 0.0413, 0.0700],\n",
      "         [0.0442, 0.0777, 0.0345,  ..., 0.0319, 0.0480, 0.0431],\n",
      "         [0.0543, 0.0443, 0.0373,  ..., 0.0251, 0.0572, 0.0504]],\n",
      "\n",
      "        ...,\n",
      "\n",
      "        [[0.0393, 0.0611, 0.0354,  ..., 0.0357, 0.0642, 0.0345],\n",
      "         [0.0583, 0.0737, 0.0405,  ..., 0.0671, 0.0497, 0.0453],\n",
      "         [0.0809, 0.0597, 0.0363,  ..., 0.0501, 0.0584, 0.0488],\n",
      "         ...,\n",
      "         [0.0667, 0.0614, 0.0488,  ..., 0.0522, 0.0477, 0.0752],\n",
      "         [0.0415, 0.0595, 0.0580,  ..., 0.0265, 0.0649, 0.0566],\n",
      "         [0.0460, 0.0753, 0.0512,  ..., 0.0460, 0.0548, 0.0426]],\n",
      "\n",
      "        [[0.0837, 0.0509, 0.0438,  ..., 0.0227, 0.0506, 0.0516],\n",
      "         [0.0635, 0.0453, 0.0456,  ..., 0.0414, 0.0737, 0.0487],\n",
      "         [0.0422, 0.0620, 0.0388,  ..., 0.0446, 0.0888, 0.0478],\n",
      "         ...,\n",
      "         [0.0663, 0.0458, 0.0215,  ..., 0.0598, 0.0537, 0.0606],\n",
      "         [0.0612, 0.0451, 0.0521,  ..., 0.0386, 0.0756, 0.0505],\n",
      "         [0.0617, 0.0301, 0.0349,  ..., 0.0640, 0.0574, 0.0368]],\n",
      "\n",
      "        [[0.0720, 0.0671, 0.0661,  ..., 0.1027, 0.0399, 0.0585],\n",
      "         [0.0485, 0.0380, 0.0361,  ..., 0.0445, 0.0468, 0.0297],\n",
      "         [0.0703, 0.0408, 0.0522,  ..., 0.0603, 0.0241, 0.0609],\n",
      "         ...,\n",
      "         [0.0726, 0.0623, 0.0655,  ..., 0.0611, 0.0725, 0.0466],\n",
      "         [0.0599, 0.0269, 0.0663,  ..., 0.0896, 0.0362, 0.0698],\n",
      "         [0.0308, 0.0385, 0.0410,  ..., 0.0827, 0.0380, 0.0481]]],\n",
      "       grad_fn=<SoftmaxBackward0>)\n"
     ]
    }
   ],
   "source": [
    "\n",
    "if __name__ == \"__main__\":\n",
    "    n_classes = 100\n",
    "\n",
    "    # TODO: TRANSPONI E SMARMELLA TUTTO\n",
    "\n",
    "    source = torch.randint(low=0, high=n_classes, size=(20, 16))\n",
    "    target = torch.randint(low=0, high=n_classes, size=(20, 32))\n",
    "\n",
    "    s2s = TransformerModel(n_classes,700,tokenizer.eos_token_id)\n",
    "\n",
    "    out = s2s(source, target)\n",
    "    print(out.size())\n",
    "    print(out)"
   ]
  }
 ],
 "metadata": {
  "kernelspec": {
   "display_name": "Python 3",
   "language": "python",
   "name": "python3"
  },
  "language_info": {
   "codemirror_mode": {
    "name": "ipython",
    "version": 3
   },
   "file_extension": ".py",
   "mimetype": "text/x-python",
   "name": "python",
   "nbconvert_exporter": "python",
   "pygments_lexer": "ipython3",
   "version": "3.10.12"
  }
 },
 "nbformat": 4,
 "nbformat_minor": 2
}
