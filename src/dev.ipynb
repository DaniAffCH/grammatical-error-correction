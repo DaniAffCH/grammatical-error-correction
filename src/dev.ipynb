{
 "cells": [
  {
   "cell_type": "code",
   "execution_count": 1,
   "metadata": {},
   "outputs": [],
   "source": [
    "from jflegDataset import JflegDataset\n",
    "from torch.utils.data import DataLoader\n",
    "from _utils import tokenizerSetup, SpecialToken\n",
    "from model import S2S\n",
    "import torch"
   ]
  },
  {
   "cell_type": "code",
   "execution_count": 2,
   "metadata": {},
   "outputs": [],
   "source": [
    "\n",
    "TRAIN_PATH = \"dataset/train.csv\"\n",
    "VAL_PATH = \"dataset/eval.csv\"\n"
   ]
  },
  {
   "cell_type": "code",
   "execution_count": 3,
   "metadata": {},
   "outputs": [
    {
     "data": {
      "text/plain": [
       "{'input_ids': tensor([[50259, 50259, 50259,  1026,   481,  6290,   287,   262],\n",
       "        [   40,   765,   284,  4483,   257,  1263,  9396,   286],\n",
       "        [50259, 50259, 50259, 50259, 50259,  3666,  3290,   318]]), 'attention_mask': tensor([[0, 0, 0, 1, 1, 1, 1, 1],\n",
       "        [1, 1, 1, 1, 1, 1, 1, 1],\n",
       "        [0, 0, 0, 0, 0, 1, 1, 1]])}"
      ]
     },
     "execution_count": 3,
     "metadata": {},
     "output_type": "execute_result"
    }
   ],
   "source": [
    "tokenizer = tokenizerSetup()\n",
    "\n",
    "sentences = [\"It will rain in the\",\n",
    "            \"I want to eat a big bowl of\",\n",
    "            \"My dog is\"]\n",
    "a = tokenizer(sentences, return_tensors=\"pt\", padding=True)\n",
    "\n",
    "a"
   ]
  },
  {
   "cell_type": "code",
   "execution_count": 4,
   "metadata": {},
   "outputs": [
    {
     "data": {
      "text/plain": [
       "GPT2Tokenizer(name_or_path='gpt2', vocab_size=50257, model_max_length=1024, is_fast=False, padding_side='left', truncation_side='right', special_tokens={'bos_token': '[CLS]', 'eos_token': '[SEP]', 'unk_token': '<|endoftext|>', 'pad_token': '[PAD]'}, clean_up_tokenization_spaces=True),  added_tokens_decoder={\n",
       "\t50256: AddedToken(\"<|endoftext|>\", rstrip=False, lstrip=False, single_word=False, normalized=True, special=True),\n",
       "\t50257: AddedToken(\"[CLS]\", rstrip=False, lstrip=False, single_word=False, normalized=True, special=False),\n",
       "\t50258: AddedToken(\"[SEP]\", rstrip=False, lstrip=False, single_word=False, normalized=True, special=False),\n",
       "\t50259: AddedToken(\"[PAD]\", rstrip=False, lstrip=False, single_word=False, normalized=True, special=False),\n",
       "}"
      ]
     },
     "execution_count": 4,
     "metadata": {},
     "output_type": "execute_result"
    }
   ],
   "source": [
    "\n",
    "\n",
    "ds_train = JflegDataset(TRAIN_PATH, tokenizer)\n",
    "ds_eval = JflegDataset(VAL_PATH, tokenizer)\n",
    "\n",
    "dl_train = DataLoader(ds_train, batch_size=2)\n",
    "dl_eval = DataLoader(ds_eval, batch_size=2)\n",
    "\n",
    "tokenizer"
   ]
  },
  {
   "cell_type": "code",
   "execution_count": 5,
   "metadata": {},
   "outputs": [
    {
     "name": "stdout",
     "output_type": "stream",
     "text": [
      "tensor([[50259, 50259, 50259, 50259, 50259, 50259, 50259, 50259, 50259, 50259,\n",
      "         50259, 50259, 50259, 50259, 50259, 50259, 50259, 50259, 50259, 50259,\n",
      "         50259, 50259, 50259, 50259, 50259, 50259, 50259, 50259, 50259, 50259,\n",
      "         50259, 50259, 50259, 50259, 50259, 50259, 50259, 50259, 50259, 50259,\n",
      "         50259, 50259, 50259, 50259, 50259, 50259, 50259, 50257,   604,    25,\n",
      "          9930,   423,   257,  1263,  2863,   284,  8335,   329,   511,  2003,\n",
      "          1204,   220,   220, 50258],\n",
      "        [50259, 50259, 50259, 50259, 50259, 50259, 50259, 50259, 50259, 50259,\n",
      "         50259, 50259, 50259, 50259, 50259, 50259, 50259, 50259, 50259, 50259,\n",
      "         50259, 50259, 50259, 50259, 50259, 50259, 50259, 50259, 50259, 50259,\n",
      "         50257,   317,  2818,  1672,   286,  6416,  7793,  1134,   373,   618,\n",
      "           347,  1042,   283,   694, 25036,   262,  3850,  3194,   416,   262,\n",
      "          5822,   290,  1908,   340,   284,   262,  4141, 23129, 28283,  6711,\n",
      "           764,   220,   220, 50258]])\n"
     ]
    },
    {
     "data": {
      "text/plain": [
       "' 4:they have a big chance to prepare for their future life  '"
      ]
     },
     "execution_count": 5,
     "metadata": {},
     "output_type": "execute_result"
    }
   ],
   "source": [
    "it = iter(dl_train)\n",
    "next(it)\n",
    "x,y = next(it)\n",
    "print(x[\"input_ids\"].squeeze())\n",
    "ds_train.decode(x[\"input_ids\"][0].squeeze())"
   ]
  },
  {
   "cell_type": "code",
   "execution_count": 7,
   "metadata": {},
   "outputs": [
    {
     "name": "stdout",
     "output_type": "stream",
     "text": [
      "src.shape=torch.Size([2, 64])\n",
      "target.shape=torch.Size([2, 64])\n",
      "out.shape=torch.Size([2, 64, 50260])\n"
     ]
    }
   ],
   "source": [
    "model = S2S(tokenizer.vocab_size + len(SpecialToken), 768)\n",
    "\n",
    "for x,y in dl_train:\n",
    "    src = x[\"input_ids\"]\n",
    "    target = y[0][\"input_ids\"]\n",
    "    src_mask = x[\"attention_mask\"]\n",
    "    target_mask = y[0][\"attention_mask\"]\n",
    "\n",
    "    print(f\"{src.shape=}\")\n",
    "    print(f\"{target.shape=}\")\n",
    "    out = model(src,target,src_mask,target_mask)\n",
    "    print(f\"{out.shape=}\")\n",
    "    break"
   ]
  }
 ],
 "metadata": {
  "kernelspec": {
   "display_name": "Python 3",
   "language": "python",
   "name": "python3"
  },
  "language_info": {
   "codemirror_mode": {
    "name": "ipython",
    "version": 3
   },
   "file_extension": ".py",
   "mimetype": "text/x-python",
   "name": "python",
   "nbconvert_exporter": "python",
   "pygments_lexer": "ipython3",
   "version": "3.10.12"
  }
 },
 "nbformat": 4,
 "nbformat_minor": 2
}
