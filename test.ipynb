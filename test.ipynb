{
 "cells": [
  {
   "cell_type": "code",
   "execution_count": 90,
   "metadata": {},
   "outputs": [],
   "source": [
    "import torch\n",
    "import torch.nn as nn\n",
    "import torch.nn.functional as F\n",
    "import torch.optim as optim\n",
    "import numpy as np\n",
    "import spacy\n",
    "import pickle\n",
    "import json\n",
    "import pandas as pd"
   ]
  },
  {
   "cell_type": "markdown",
   "metadata": {},
   "source": [
    "### Preprocessing"
   ]
  },
  {
   "cell_type": "code",
   "execution_count": 91,
   "metadata": {},
   "outputs": [
    {
     "data": {
      "text/html": [
       "<div>\n",
       "<style scoped>\n",
       "    .dataframe tbody tr th:only-of-type {\n",
       "        vertical-align: middle;\n",
       "    }\n",
       "\n",
       "    .dataframe tbody tr th {\n",
       "        vertical-align: top;\n",
       "    }\n",
       "\n",
       "    .dataframe thead th {\n",
       "        text-align: right;\n",
       "    }\n",
       "</style>\n",
       "<table border=\"1\" class=\"dataframe\">\n",
       "  <thead>\n",
       "    <tr style=\"text-align: right;\">\n",
       "      <th></th>\n",
       "      <th>input</th>\n",
       "      <th>target</th>\n",
       "    </tr>\n",
       "  </thead>\n",
       "  <tbody>\n",
       "    <tr>\n",
       "      <th>0</th>\n",
       "      <td>grammar: So I think we can not live if old peo...</td>\n",
       "      <td>So I think we would not be alive if our ancest...</td>\n",
       "    </tr>\n",
       "    <tr>\n",
       "      <th>1</th>\n",
       "      <td>grammar: So I think we can not live if old peo...</td>\n",
       "      <td>So I think we could not live if older people d...</td>\n",
       "    </tr>\n",
       "    <tr>\n",
       "      <th>2</th>\n",
       "      <td>grammar: So I think we can not live if old peo...</td>\n",
       "      <td>So I think we can not live if old people could...</td>\n",
       "    </tr>\n",
       "    <tr>\n",
       "      <th>3</th>\n",
       "      <td>grammar: So I think we can not live if old peo...</td>\n",
       "      <td>So I think we can not live if old people can n...</td>\n",
       "    </tr>\n",
       "    <tr>\n",
       "      <th>4</th>\n",
       "      <td>grammar: For not use car .</td>\n",
       "      <td>Not for use with a car .</td>\n",
       "    </tr>\n",
       "  </tbody>\n",
       "</table>\n",
       "</div>"
      ],
      "text/plain": [
       "                                               input  \\\n",
       "0  grammar: So I think we can not live if old peo...   \n",
       "1  grammar: So I think we can not live if old peo...   \n",
       "2  grammar: So I think we can not live if old peo...   \n",
       "3  grammar: So I think we can not live if old peo...   \n",
       "4                        grammar: For not use car .    \n",
       "\n",
       "                                              target  \n",
       "0  So I think we would not be alive if our ancest...  \n",
       "1  So I think we could not live if older people d...  \n",
       "2  So I think we can not live if old people could...  \n",
       "3  So I think we can not live if old people can n...  \n",
       "4                          Not for use with a car .   "
      ]
     },
     "execution_count": 91,
     "metadata": {},
     "output_type": "execute_result"
    }
   ],
   "source": [
    "train_data = pd.read_csv('./train.csv')\n",
    "test_data = pd.read_csv('./eval.csv')\n",
    "train_data.describe()\n",
    "test_data.describe()\n",
    "train_data.head()"
   ]
  },
  {
   "cell_type": "code",
   "execution_count": 92,
   "metadata": {},
   "outputs": [
    {
     "data": {
      "text/html": [
       "<div>\n",
       "<style scoped>\n",
       "    .dataframe tbody tr th:only-of-type {\n",
       "        vertical-align: middle;\n",
       "    }\n",
       "\n",
       "    .dataframe tbody tr th {\n",
       "        vertical-align: top;\n",
       "    }\n",
       "\n",
       "    .dataframe thead th {\n",
       "        text-align: right;\n",
       "    }\n",
       "</style>\n",
       "<table border=\"1\" class=\"dataframe\">\n",
       "  <thead>\n",
       "    <tr style=\"text-align: right;\">\n",
       "      <th></th>\n",
       "      <th>input</th>\n",
       "      <th>target</th>\n",
       "    </tr>\n",
       "  </thead>\n",
       "  <tbody>\n",
       "    <tr>\n",
       "      <th>0</th>\n",
       "      <td>So I think we can not live if old people coul...</td>\n",
       "      <td>So I think we would not be alive if our ancest...</td>\n",
       "    </tr>\n",
       "    <tr>\n",
       "      <th>1</th>\n",
       "      <td>So I think we can not live if old people coul...</td>\n",
       "      <td>So I think we could not live if older people d...</td>\n",
       "    </tr>\n",
       "    <tr>\n",
       "      <th>2</th>\n",
       "      <td>So I think we can not live if old people coul...</td>\n",
       "      <td>So I think we can not live if old people could...</td>\n",
       "    </tr>\n",
       "    <tr>\n",
       "      <th>3</th>\n",
       "      <td>So I think we can not live if old people coul...</td>\n",
       "      <td>So I think we can not live if old people can n...</td>\n",
       "    </tr>\n",
       "    <tr>\n",
       "      <th>4</th>\n",
       "      <td>For not use car .</td>\n",
       "      <td>Not for use with a car .</td>\n",
       "    </tr>\n",
       "  </tbody>\n",
       "</table>\n",
       "</div>"
      ],
      "text/plain": [
       "                                               input  \\\n",
       "0   So I think we can not live if old people coul...   \n",
       "1   So I think we can not live if old people coul...   \n",
       "2   So I think we can not live if old people coul...   \n",
       "3   So I think we can not live if old people coul...   \n",
       "4                                  For not use car .   \n",
       "\n",
       "                                              target  \n",
       "0  So I think we would not be alive if our ancest...  \n",
       "1  So I think we could not live if older people d...  \n",
       "2  So I think we can not live if old people could...  \n",
       "3  So I think we can not live if old people can n...  \n",
       "4                          Not for use with a car .   "
      ]
     },
     "execution_count": 92,
     "metadata": {},
     "output_type": "execute_result"
    }
   ],
   "source": [
    "train_data['input'] = train_data['input'].apply(lambda x: x[8:-1])\n",
    "train_data.head()       "
   ]
  },
  {
   "cell_type": "code",
   "execution_count": 93,
   "metadata": {},
   "outputs": [
    {
     "data": {
      "text/plain": [
       "input        I have an IBM computer and my laptop is DELL \n",
       "target    I have an IBM computer and my laptop is a Dell .\n",
       "Name: 115, dtype: object"
      ]
     },
     "execution_count": 93,
     "metadata": {},
     "output_type": "execute_result"
    }
   ],
   "source": [
    "test_data['input'] = test_data['input'].apply(lambda x: x[8:-1])\n",
    "test_data.iloc[115]"
   ]
  },
  {
   "cell_type": "markdown",
   "metadata": {},
   "source": [
    "### Tokenization"
   ]
  },
  {
   "cell_type": "code",
   "execution_count": 94,
   "metadata": {},
   "outputs": [
    {
     "name": "stdout",
     "output_type": "stream",
     "text": [
      "['<s>', ' ', 'So', 'I', 'think', 'we', 'can', 'not', 'live', 'if', 'old', 'people', 'could', 'not', 'find', 'siences', 'and', 'tecnologies', 'and', 'they', 'did', 'not', 'developped', '.', '</s>']\n"
     ]
    }
   ],
   "source": [
    "nlp = spacy.load('en_core_web_sm')\n",
    "def tokenize(text):\n",
    "    return [tok.text for tok in nlp.tokenizer(text)]\n",
    "print(['<s>',*tokenize(train_data.iloc[0]['input']),'</s>'])"
   ]
  },
  {
   "cell_type": "code",
   "execution_count": 95,
   "metadata": {},
   "outputs": [
    {
     "data": {
      "text/html": [
       "<div>\n",
       "<style scoped>\n",
       "    .dataframe tbody tr th:only-of-type {\n",
       "        vertical-align: middle;\n",
       "    }\n",
       "\n",
       "    .dataframe tbody tr th {\n",
       "        vertical-align: top;\n",
       "    }\n",
       "\n",
       "    .dataframe thead th {\n",
       "        text-align: right;\n",
       "    }\n",
       "</style>\n",
       "<table border=\"1\" class=\"dataframe\">\n",
       "  <thead>\n",
       "    <tr style=\"text-align: right;\">\n",
       "      <th></th>\n",
       "      <th>input</th>\n",
       "      <th>target</th>\n",
       "    </tr>\n",
       "  </thead>\n",
       "  <tbody>\n",
       "    <tr>\n",
       "      <th>0</th>\n",
       "      <td>[&lt;s&gt;,  , So, I, think, we, can, not, live, if,...</td>\n",
       "      <td>[&lt;s&gt;, So, I, think, we, would, not, be, alive,...</td>\n",
       "    </tr>\n",
       "    <tr>\n",
       "      <th>1</th>\n",
       "      <td>[&lt;s&gt;,  , So, I, think, we, can, not, live, if,...</td>\n",
       "      <td>[&lt;s&gt;, So, I, think, we, could, not, live, if, ...</td>\n",
       "    </tr>\n",
       "    <tr>\n",
       "      <th>2</th>\n",
       "      <td>[&lt;s&gt;,  , So, I, think, we, can, not, live, if,...</td>\n",
       "      <td>[&lt;s&gt;, So, I, think, we, can, not, live, if, ol...</td>\n",
       "    </tr>\n",
       "    <tr>\n",
       "      <th>3</th>\n",
       "      <td>[&lt;s&gt;,  , So, I, think, we, can, not, live, if,...</td>\n",
       "      <td>[&lt;s&gt;, So, I, think, we, can, not, live, if, ol...</td>\n",
       "    </tr>\n",
       "    <tr>\n",
       "      <th>4</th>\n",
       "      <td>[&lt;s&gt;,  , For, not, use, car, ., &lt;/s&gt;]</td>\n",
       "      <td>[&lt;s&gt;, Not, for, use, with, a, car, ., &lt;/s&gt;]</td>\n",
       "    </tr>\n",
       "  </tbody>\n",
       "</table>\n",
       "</div>"
      ],
      "text/plain": [
       "                                               input  \\\n",
       "0  [<s>,  , So, I, think, we, can, not, live, if,...   \n",
       "1  [<s>,  , So, I, think, we, can, not, live, if,...   \n",
       "2  [<s>,  , So, I, think, we, can, not, live, if,...   \n",
       "3  [<s>,  , So, I, think, we, can, not, live, if,...   \n",
       "4              [<s>,  , For, not, use, car, ., </s>]   \n",
       "\n",
       "                                              target  \n",
       "0  [<s>, So, I, think, we, would, not, be, alive,...  \n",
       "1  [<s>, So, I, think, we, could, not, live, if, ...  \n",
       "2  [<s>, So, I, think, we, can, not, live, if, ol...  \n",
       "3  [<s>, So, I, think, we, can, not, live, if, ol...  \n",
       "4        [<s>, Not, for, use, with, a, car, ., </s>]  "
      ]
     },
     "execution_count": 95,
     "metadata": {},
     "output_type": "execute_result"
    }
   ],
   "source": [
    "train_data['input'] = train_data['input'].apply(lambda x: ['<s>',*tokenize(x),'</s>'])\n",
    "train_data['target'] = train_data['target'].apply(lambda x: ['<s>',*tokenize(x),'</s>'])\n",
    "train_data.head()"
   ]
  },
  {
   "cell_type": "code",
   "execution_count": 96,
   "metadata": {},
   "outputs": [
    {
     "data": {
      "text/html": [
       "<div>\n",
       "<style scoped>\n",
       "    .dataframe tbody tr th:only-of-type {\n",
       "        vertical-align: middle;\n",
       "    }\n",
       "\n",
       "    .dataframe tbody tr th {\n",
       "        vertical-align: top;\n",
       "    }\n",
       "\n",
       "    .dataframe thead th {\n",
       "        text-align: right;\n",
       "    }\n",
       "</style>\n",
       "<table border=\"1\" class=\"dataframe\">\n",
       "  <thead>\n",
       "    <tr style=\"text-align: right;\">\n",
       "      <th></th>\n",
       "      <th>input</th>\n",
       "      <th>target</th>\n",
       "    </tr>\n",
       "  </thead>\n",
       "  <tbody>\n",
       "    <tr>\n",
       "      <th>0</th>\n",
       "      <td>[&lt;s&gt;,  , New, and, new, technology, has, been,...</td>\n",
       "      <td>[&lt;s&gt;, New, technology, has, been, introduced, ...</td>\n",
       "    </tr>\n",
       "    <tr>\n",
       "      <th>1</th>\n",
       "      <td>[&lt;s&gt;,  , New, and, new, technology, has, been,...</td>\n",
       "      <td>[&lt;s&gt;, New, technology, has, been, introduced, ...</td>\n",
       "    </tr>\n",
       "    <tr>\n",
       "      <th>2</th>\n",
       "      <td>[&lt;s&gt;,  , New, and, new, technology, has, been,...</td>\n",
       "      <td>[&lt;s&gt;, Newer, and, newer, technology, has, been...</td>\n",
       "    </tr>\n",
       "    <tr>\n",
       "      <th>3</th>\n",
       "      <td>[&lt;s&gt;,  , New, and, new, technology, has, been,...</td>\n",
       "      <td>[&lt;s&gt;, Newer, and, newer, technology, has, been...</td>\n",
       "    </tr>\n",
       "    <tr>\n",
       "      <th>4</th>\n",
       "      <td>[&lt;s&gt;,  , One, possible, outcome, is, that, an,...</td>\n",
       "      <td>[&lt;s&gt;, One, possible, outcome, is, that, an, en...</td>\n",
       "    </tr>\n",
       "  </tbody>\n",
       "</table>\n",
       "</div>"
      ],
      "text/plain": [
       "                                               input  \\\n",
       "0  [<s>,  , New, and, new, technology, has, been,...   \n",
       "1  [<s>,  , New, and, new, technology, has, been,...   \n",
       "2  [<s>,  , New, and, new, technology, has, been,...   \n",
       "3  [<s>,  , New, and, new, technology, has, been,...   \n",
       "4  [<s>,  , One, possible, outcome, is, that, an,...   \n",
       "\n",
       "                                              target  \n",
       "0  [<s>, New, technology, has, been, introduced, ...  \n",
       "1  [<s>, New, technology, has, been, introduced, ...  \n",
       "2  [<s>, Newer, and, newer, technology, has, been...  \n",
       "3  [<s>, Newer, and, newer, technology, has, been...  \n",
       "4  [<s>, One, possible, outcome, is, that, an, en...  "
      ]
     },
     "execution_count": 96,
     "metadata": {},
     "output_type": "execute_result"
    }
   ],
   "source": [
    "test_data['input'] = test_data['input'].apply(lambda x: ['<s>',*tokenize(x),'</s>'])\n",
    "test_data['target'] = test_data['target'].apply(lambda x: ['<s>',*tokenize(x),'</s>'])\n",
    "test_data.head()"
   ]
  },
  {
   "cell_type": "markdown",
   "metadata": {},
   "source": [
    "### Embedding"
   ]
  }
 ],
 "metadata": {
  "kernelspec": {
   "display_name": "nlp",
   "language": "python",
   "name": "python3"
  },
  "language_info": {
   "codemirror_mode": {
    "name": "ipython",
    "version": 3
   },
   "file_extension": ".py",
   "mimetype": "text/x-python",
   "name": "python",
   "nbconvert_exporter": "python",
   "pygments_lexer": "ipython3",
   "version": "3.8.18"
  }
 },
 "nbformat": 4,
 "nbformat_minor": 2
}
