{
 "cells": [
  {
   "cell_type": "code",
   "execution_count": 14,
   "metadata": {},
   "outputs": [],
   "source": [
    "import torch\n",
    "import torch.nn as nn\n",
    "import torch.nn.functional as F\n",
    "import torch.optim as optim\n",
    "import numpy as np\n",
    "import spacy\n",
    "import pickle\n",
    "import json\n",
    "import pandas as pd"
   ]
  },
  {
   "cell_type": "markdown",
   "metadata": {},
   "source": [
    "### Preprocessing"
   ]
  },
  {
   "cell_type": "code",
   "execution_count": 15,
   "metadata": {},
   "outputs": [
    {
     "data": {
      "text/html": [
       "<div>\n",
       "<style scoped>\n",
       "    .dataframe tbody tr th:only-of-type {\n",
       "        vertical-align: middle;\n",
       "    }\n",
       "\n",
       "    .dataframe tbody tr th {\n",
       "        vertical-align: top;\n",
       "    }\n",
       "\n",
       "    .dataframe thead th {\n",
       "        text-align: right;\n",
       "    }\n",
       "</style>\n",
       "<table border=\"1\" class=\"dataframe\">\n",
       "  <thead>\n",
       "    <tr style=\"text-align: right;\">\n",
       "      <th></th>\n",
       "      <th>input</th>\n",
       "      <th>target</th>\n",
       "    </tr>\n",
       "  </thead>\n",
       "  <tbody>\n",
       "    <tr>\n",
       "      <th>0</th>\n",
       "      <td>grammar: So I think we can not live if old peo...</td>\n",
       "      <td>So I think we would not be alive if our ancest...</td>\n",
       "    </tr>\n",
       "    <tr>\n",
       "      <th>1</th>\n",
       "      <td>grammar: So I think we can not live if old peo...</td>\n",
       "      <td>So I think we could not live if older people d...</td>\n",
       "    </tr>\n",
       "    <tr>\n",
       "      <th>2</th>\n",
       "      <td>grammar: So I think we can not live if old peo...</td>\n",
       "      <td>So I think we can not live if old people could...</td>\n",
       "    </tr>\n",
       "    <tr>\n",
       "      <th>3</th>\n",
       "      <td>grammar: So I think we can not live if old peo...</td>\n",
       "      <td>So I think we can not live if old people can n...</td>\n",
       "    </tr>\n",
       "    <tr>\n",
       "      <th>4</th>\n",
       "      <td>grammar: For not use car .</td>\n",
       "      <td>Not for use with a car .</td>\n",
       "    </tr>\n",
       "  </tbody>\n",
       "</table>\n",
       "</div>"
      ],
      "text/plain": [
       "                                               input  \\\n",
       "0  grammar: So I think we can not live if old peo...   \n",
       "1  grammar: So I think we can not live if old peo...   \n",
       "2  grammar: So I think we can not live if old peo...   \n",
       "3  grammar: So I think we can not live if old peo...   \n",
       "4                        grammar: For not use car .    \n",
       "\n",
       "                                              target  \n",
       "0  So I think we would not be alive if our ancest...  \n",
       "1  So I think we could not live if older people d...  \n",
       "2  So I think we can not live if old people could...  \n",
       "3  So I think we can not live if old people can n...  \n",
       "4                          Not for use with a car .   "
      ]
     },
     "execution_count": 15,
     "metadata": {},
     "output_type": "execute_result"
    }
   ],
   "source": [
    "train_data = pd.read_csv('./train.csv')\n",
    "test_data = pd.read_csv('./eval.csv')\n",
    "train_data.describe()\n",
    "test_data.describe()\n",
    "train_data.head()"
   ]
  },
  {
   "cell_type": "code",
   "execution_count": 16,
   "metadata": {},
   "outputs": [
    {
     "data": {
      "text/html": [
       "<div>\n",
       "<style scoped>\n",
       "    .dataframe tbody tr th:only-of-type {\n",
       "        vertical-align: middle;\n",
       "    }\n",
       "\n",
       "    .dataframe tbody tr th {\n",
       "        vertical-align: top;\n",
       "    }\n",
       "\n",
       "    .dataframe thead th {\n",
       "        text-align: right;\n",
       "    }\n",
       "</style>\n",
       "<table border=\"1\" class=\"dataframe\">\n",
       "  <thead>\n",
       "    <tr style=\"text-align: right;\">\n",
       "      <th></th>\n",
       "      <th>input</th>\n",
       "      <th>target</th>\n",
       "    </tr>\n",
       "  </thead>\n",
       "  <tbody>\n",
       "    <tr>\n",
       "      <th>0</th>\n",
       "      <td>So I think we can not live if old people coul...</td>\n",
       "      <td>So I think we would not be alive if our ancest...</td>\n",
       "    </tr>\n",
       "    <tr>\n",
       "      <th>1</th>\n",
       "      <td>So I think we can not live if old people coul...</td>\n",
       "      <td>So I think we could not live if older people d...</td>\n",
       "    </tr>\n",
       "    <tr>\n",
       "      <th>2</th>\n",
       "      <td>So I think we can not live if old people coul...</td>\n",
       "      <td>So I think we can not live if old people could...</td>\n",
       "    </tr>\n",
       "    <tr>\n",
       "      <th>3</th>\n",
       "      <td>So I think we can not live if old people coul...</td>\n",
       "      <td>So I think we can not live if old people can n...</td>\n",
       "    </tr>\n",
       "    <tr>\n",
       "      <th>4</th>\n",
       "      <td>For not use car .</td>\n",
       "      <td>Not for use with a car .</td>\n",
       "    </tr>\n",
       "  </tbody>\n",
       "</table>\n",
       "</div>"
      ],
      "text/plain": [
       "                                               input  \\\n",
       "0   So I think we can not live if old people coul...   \n",
       "1   So I think we can not live if old people coul...   \n",
       "2   So I think we can not live if old people coul...   \n",
       "3   So I think we can not live if old people coul...   \n",
       "4                                  For not use car .   \n",
       "\n",
       "                                              target  \n",
       "0  So I think we would not be alive if our ancest...  \n",
       "1  So I think we could not live if older people d...  \n",
       "2  So I think we can not live if old people could...  \n",
       "3  So I think we can not live if old people can n...  \n",
       "4                          Not for use with a car .   "
      ]
     },
     "execution_count": 16,
     "metadata": {},
     "output_type": "execute_result"
    }
   ],
   "source": [
    "train_data['input'] = train_data['input'].apply(lambda x: x[8:-1])\n",
    "train_data.head()       "
   ]
  },
  {
   "cell_type": "code",
   "execution_count": 17,
   "metadata": {},
   "outputs": [
    {
     "data": {
      "text/plain": [
       "input        I have an IBM computer and my laptop is DELL \n",
       "target    I have an IBM computer and my laptop is a Dell .\n",
       "Name: 115, dtype: object"
      ]
     },
     "execution_count": 17,
     "metadata": {},
     "output_type": "execute_result"
    }
   ],
   "source": [
    "test_data['input'] = test_data['input'].apply(lambda x: x[8:-1])\n",
    "test_data.iloc[115]"
   ]
  },
  {
   "cell_type": "markdown",
   "metadata": {},
   "source": [
    "### Tokenization"
   ]
  },
  {
   "cell_type": "code",
   "execution_count": 18,
   "metadata": {},
   "outputs": [
    {
     "name": "stdout",
     "output_type": "stream",
     "text": [
      "[' ', 'So', 'I', 'think', 'we', 'can', 'not', 'live', 'if', 'old', 'people', 'could', 'not', 'find', 'siences', 'and', 'tecnologies', 'and', 'they', 'did', 'not', 'developped', '.']\n"
     ]
    }
   ],
   "source": [
    "nlp = spacy.load('en_core_web_sm')\n",
    "def tokenize(text):\n",
    "    res=[tok.text for tok in nlp.tokenizer(text)]\n",
    "    return res\n",
    "print(tokenize(train_data.iloc[0]['input']))"
   ]
  },
  {
   "cell_type": "code",
   "execution_count": 19,
   "metadata": {},
   "outputs": [
    {
     "data": {
      "text/html": [
       "<div>\n",
       "<style scoped>\n",
       "    .dataframe tbody tr th:only-of-type {\n",
       "        vertical-align: middle;\n",
       "    }\n",
       "\n",
       "    .dataframe tbody tr th {\n",
       "        vertical-align: top;\n",
       "    }\n",
       "\n",
       "    .dataframe thead th {\n",
       "        text-align: right;\n",
       "    }\n",
       "</style>\n",
       "<table border=\"1\" class=\"dataframe\">\n",
       "  <thead>\n",
       "    <tr style=\"text-align: right;\">\n",
       "      <th></th>\n",
       "      <th>input</th>\n",
       "      <th>target</th>\n",
       "    </tr>\n",
       "  </thead>\n",
       "  <tbody>\n",
       "    <tr>\n",
       "      <th>0</th>\n",
       "      <td>[&lt;s&gt;,  , So, I, think, we, can, not, live, if,...</td>\n",
       "      <td>[&lt;s&gt;, So, I, think, we, would, not, be, alive,...</td>\n",
       "    </tr>\n",
       "    <tr>\n",
       "      <th>1</th>\n",
       "      <td>[&lt;s&gt;,  , So, I, think, we, can, not, live, if,...</td>\n",
       "      <td>[&lt;s&gt;, So, I, think, we, could, not, live, if, ...</td>\n",
       "    </tr>\n",
       "    <tr>\n",
       "      <th>2</th>\n",
       "      <td>[&lt;s&gt;,  , So, I, think, we, can, not, live, if,...</td>\n",
       "      <td>[&lt;s&gt;, So, I, think, we, can, not, live, if, ol...</td>\n",
       "    </tr>\n",
       "    <tr>\n",
       "      <th>3</th>\n",
       "      <td>[&lt;s&gt;,  , So, I, think, we, can, not, live, if,...</td>\n",
       "      <td>[&lt;s&gt;, So, I, think, we, can, not, live, if, ol...</td>\n",
       "    </tr>\n",
       "    <tr>\n",
       "      <th>4</th>\n",
       "      <td>[&lt;s&gt;,  , For, not, use, car, ., &lt;/s&gt;]</td>\n",
       "      <td>[&lt;s&gt;, Not, for, use, with, a, car, ., &lt;/s&gt;]</td>\n",
       "    </tr>\n",
       "  </tbody>\n",
       "</table>\n",
       "</div>"
      ],
      "text/plain": [
       "                                               input  \\\n",
       "0  [<s>,  , So, I, think, we, can, not, live, if,...   \n",
       "1  [<s>,  , So, I, think, we, can, not, live, if,...   \n",
       "2  [<s>,  , So, I, think, we, can, not, live, if,...   \n",
       "3  [<s>,  , So, I, think, we, can, not, live, if,...   \n",
       "4              [<s>,  , For, not, use, car, ., </s>]   \n",
       "\n",
       "                                              target  \n",
       "0  [<s>, So, I, think, we, would, not, be, alive,...  \n",
       "1  [<s>, So, I, think, we, could, not, live, if, ...  \n",
       "2  [<s>, So, I, think, we, can, not, live, if, ol...  \n",
       "3  [<s>, So, I, think, we, can, not, live, if, ol...  \n",
       "4        [<s>, Not, for, use, with, a, car, ., </s>]  "
      ]
     },
     "execution_count": 19,
     "metadata": {},
     "output_type": "execute_result"
    }
   ],
   "source": [
    "train_data['input'] = train_data['input'].apply(lambda x: ['<s>',*tokenize(x),'</s>'])\n",
    "train_data['target'] = train_data['target'].apply(lambda x: ['<s>',*tokenize(x),'</s>'])\n",
    "train_data.head()"
   ]
  },
  {
   "cell_type": "code",
   "execution_count": 20,
   "metadata": {},
   "outputs": [
    {
     "data": {
      "text/html": [
       "<div>\n",
       "<style scoped>\n",
       "    .dataframe tbody tr th:only-of-type {\n",
       "        vertical-align: middle;\n",
       "    }\n",
       "\n",
       "    .dataframe tbody tr th {\n",
       "        vertical-align: top;\n",
       "    }\n",
       "\n",
       "    .dataframe thead th {\n",
       "        text-align: right;\n",
       "    }\n",
       "</style>\n",
       "<table border=\"1\" class=\"dataframe\">\n",
       "  <thead>\n",
       "    <tr style=\"text-align: right;\">\n",
       "      <th></th>\n",
       "      <th>input</th>\n",
       "      <th>target</th>\n",
       "    </tr>\n",
       "  </thead>\n",
       "  <tbody>\n",
       "    <tr>\n",
       "      <th>0</th>\n",
       "      <td>[&lt;s&gt;,  , New, and, new, technology, has, been,...</td>\n",
       "      <td>[&lt;s&gt;, New, technology, has, been, introduced, ...</td>\n",
       "    </tr>\n",
       "    <tr>\n",
       "      <th>1</th>\n",
       "      <td>[&lt;s&gt;,  , New, and, new, technology, has, been,...</td>\n",
       "      <td>[&lt;s&gt;, New, technology, has, been, introduced, ...</td>\n",
       "    </tr>\n",
       "    <tr>\n",
       "      <th>2</th>\n",
       "      <td>[&lt;s&gt;,  , New, and, new, technology, has, been,...</td>\n",
       "      <td>[&lt;s&gt;, Newer, and, newer, technology, has, been...</td>\n",
       "    </tr>\n",
       "    <tr>\n",
       "      <th>3</th>\n",
       "      <td>[&lt;s&gt;,  , New, and, new, technology, has, been,...</td>\n",
       "      <td>[&lt;s&gt;, Newer, and, newer, technology, has, been...</td>\n",
       "    </tr>\n",
       "    <tr>\n",
       "      <th>4</th>\n",
       "      <td>[&lt;s&gt;,  , One, possible, outcome, is, that, an,...</td>\n",
       "      <td>[&lt;s&gt;, One, possible, outcome, is, that, an, en...</td>\n",
       "    </tr>\n",
       "  </tbody>\n",
       "</table>\n",
       "</div>"
      ],
      "text/plain": [
       "                                               input  \\\n",
       "0  [<s>,  , New, and, new, technology, has, been,...   \n",
       "1  [<s>,  , New, and, new, technology, has, been,...   \n",
       "2  [<s>,  , New, and, new, technology, has, been,...   \n",
       "3  [<s>,  , New, and, new, technology, has, been,...   \n",
       "4  [<s>,  , One, possible, outcome, is, that, an,...   \n",
       "\n",
       "                                              target  \n",
       "0  [<s>, New, technology, has, been, introduced, ...  \n",
       "1  [<s>, New, technology, has, been, introduced, ...  \n",
       "2  [<s>, Newer, and, newer, technology, has, been...  \n",
       "3  [<s>, Newer, and, newer, technology, has, been...  \n",
       "4  [<s>, One, possible, outcome, is, that, an, en...  "
      ]
     },
     "execution_count": 20,
     "metadata": {},
     "output_type": "execute_result"
    }
   ],
   "source": [
    "test_data['input'] = test_data['input'].apply(lambda x: ['<s>',*tokenize(x),'</s>'])\n",
    "test_data['target'] = test_data['target'].apply(lambda x: ['<s>',*tokenize(x),'</s>'])\n",
    "test_data.head()"
   ]
  },
  {
   "cell_type": "markdown",
   "metadata": {},
   "source": [
    "### Embedding"
   ]
  },
  {
   "cell_type": "code",
   "execution_count": 21,
   "metadata": {},
   "outputs": [],
   "source": [
    "from gensim.models import Word2Vec\n",
    "data = []\n",
    "for i in range(len(train_data)):\n",
    "    data.append(train_data.iloc[i]['input'])\n",
    "    data.append(train_data.iloc[i]['target'])\n",
    "for i in range(len(test_data)):\n",
    "    data.append(test_data.iloc[i]['input'])\n",
    "    data.append(test_data.iloc[i]['target'])\n",
    "    \n",
    "word2vec_model = Word2Vec(data, vector_size=100,\\\n",
    "                                 window=5, min_count=1, workers=4, sg=1,\\\n",
    "                                 epochs=100)"
   ]
  },
  {
   "cell_type": "code",
   "execution_count": 22,
   "metadata": {},
   "outputs": [
    {
     "data": {
      "text/plain": [
       "-0.08922081"
      ]
     },
     "execution_count": 22,
     "metadata": {},
     "output_type": "execute_result"
    }
   ],
   "source": [
    "word2vec_model.wv.n_similarity(['<s>'],['</s>'])"
   ]
  },
  {
   "cell_type": "markdown",
   "metadata": {},
   "source": [
    "### Dataset and Dataloader"
   ]
  },
  {
   "cell_type": "code",
   "execution_count": 33,
   "metadata": {},
   "outputs": [
    {
     "name": "stdout",
     "output_type": "stream",
     "text": [
      "Input IDs: torch.Size([32, 128])\n",
      "Attention Mask: torch.Size([32, 128])\n",
      "Target IDs: torch.Size([32, 128])\n",
      "Input IDs: torch.Size([32, 128])\n",
      "Attention Mask: torch.Size([32, 128])\n",
      "Target IDs: torch.Size([32, 128])\n"
     ]
    }
   ],
   "source": [
    "import pandas as pd\n",
    "from torch.utils.data import Dataset, DataLoader\n",
    "from transformers import BertTokenizer\n",
    "\n",
    "class CustomDataset(Dataset):\n",
    "    def __init__(self, csv_file, tokenizer, max_length=128):\n",
    "        self.df = pd.read_csv(csv_file)\n",
    "        self.tokenizer = tokenizer\n",
    "        self.max_length = max_length\n",
    "\n",
    "    def __len__(self):\n",
    "        return len(self.df)\n",
    "\n",
    "    def __getitem__(self, index):\n",
    "        input_text = str(self.df.loc[index, 'input'])\n",
    "        target_text = str(self.df.loc[index, 'target'])\n",
    "\n",
    "        input_encoding = self.tokenizer(\n",
    "            f\"[CLS] {input_text} [SEP]\",\n",
    "            truncation=True,\n",
    "            padding='max_length',\n",
    "            max_length=self.max_length,\n",
    "            return_tensors='pt'\n",
    "        )\n",
    "\n",
    "        target_encoding = self.tokenizer(\n",
    "            f\"[CLS] {target_text} [SEP]\",\n",
    "            truncation=True,\n",
    "            padding='max_length',\n",
    "            max_length=self.max_length,\n",
    "            return_tensors='pt'\n",
    "        )\n",
    "\n",
    "        input_ids = input_encoding['input_ids'].squeeze()\n",
    "        attention_mask = input_encoding['attention_mask'].squeeze()\n",
    "\n",
    "        target_ids = target_encoding['input_ids'].squeeze()\n",
    "\n",
    "        return {\n",
    "            'input_ids': input_ids,\n",
    "            'attention_mask': attention_mask,\n",
    "            'target_ids': target_ids,\n",
    "        }\n",
    "\n",
    "# Example usage\n",
    "tokenizer = BertTokenizer.from_pretrained('bert-base-cased')\n",
    "train_dataset = CustomDataset('train.csv', tokenizer)\n",
    "test_dataset = CustomDataset('eval.csv', tokenizer)\n",
    "# Create DataLoader\n",
    "batch_size = 32\n",
    "train_dataloader = DataLoader(dataset, batch_size=batch_size, shuffle=True)\n",
    "test_dataloader = DataLoader(dataset, batch_size=batch_size, shuffle=True)\n",
    "# Access a batch\n",
    "for batch in train_dataloader:\n",
    "    input_ids = batch['input_ids']\n",
    "    attention_mask = batch['attention_mask']\n",
    "    target_ids = batch['target_ids']\n",
    "\n",
    "    # Your training code goes here\n",
    "    print(\"Input IDs:\", input_ids.size())\n",
    "    print(\"Attention Mask:\", attention_mask.size())\n",
    "    print(\"Target IDs:\", target_ids.size())\n",
    "    break  # For demonstration, only print the first batch\n",
    "\n",
    "for batch in test_dataloader:\n",
    "    input_ids = batch['input_ids']\n",
    "    attention_mask = batch['attention_mask']  \n",
    "    target_ids = batch['target_ids']\n",
    "\n",
    "    # Your training code goes here\n",
    "    print(\"Input IDs:\", input_ids.size())\n",
    "    print(\"Attention Mask:\", attention_mask.size())\n",
    "    print(\"Target IDs:\", target_ids.size())\n",
    "    break  # For demonstration, only print the first batch"
   ]
  }
 ],
 "metadata": {
  "kernelspec": {
   "display_name": "nlp",
   "language": "python",
   "name": "python3"
  },
  "language_info": {
   "codemirror_mode": {
    "name": "ipython",
    "version": 3
   },
   "file_extension": ".py",
   "mimetype": "text/x-python",
   "name": "python",
   "nbconvert_exporter": "python",
   "pygments_lexer": "ipython3",
   "version": "3.8.18"
  }
 },
 "nbformat": 4,
 "nbformat_minor": 2
}
